{
 "cells": [
  {
   "cell_type": "code",
   "execution_count": 1,
   "id": "4da24a7a",
   "metadata": {
    "scrolled": true
   },
   "outputs": [
    {
     "name": "stdout",
     "output_type": "stream",
     "text": [
      "<class 'pandas.core.frame.DataFrame'>\n",
      "RangeIndex: 2261 entries, 0 to 2260\n",
      "Data columns (total 63 columns):\n",
      " #   Column                             Non-Null Count  Dtype   \n",
      "---  ------                             --------------  -----   \n",
      " 0   respondent                         2261 non-null   float64 \n",
      " 1   main_branch                        2261 non-null   object  \n",
      " 2   hobbyist                           2261 non-null   object  \n",
      " 3   age                                2261 non-null   float64 \n",
      " 4   age_1st_code                       2261 non-null   float64 \n",
      " 5   age_first_code_cut                 2261 non-null   object  \n",
      " 6   comp_freq                          2261 non-null   object  \n",
      " 7   comp_total                         2261 non-null   float64 \n",
      " 8   converted_comp                     2261 non-null   float64 \n",
      " 9   country                            2261 non-null   object  \n",
      " 10  currency_desc                      2261 non-null   object  \n",
      " 11  currency_symbol                    2261 non-null   object  \n",
      " 12  database_desire_next_year          1687 non-null   object  \n",
      " 13  database_worked_with               1934 non-null   object  \n",
      " 14  dev_type                           2261 non-null   object  \n",
      " 15  ed_level                           2246 non-null   object  \n",
      " 16  employment                         2261 non-null   object  \n",
      " 17  ethnicity                          2092 non-null   object  \n",
      " 18  gender                             2228 non-null   object  \n",
      " 19  job_factors                        2233 non-null   object  \n",
      " 20  job_sat                            2261 non-null   category\n",
      " 21  job_seek                           2261 non-null   object  \n",
      " 22  language_desire_next_year          2160 non-null   object  \n",
      " 23  language_worked_with               2254 non-null   object  \n",
      " 24  misc_tech_desire_next_year         1954 non-null   object  \n",
      " 25  misc_tech_worked_with              1964 non-null   object  \n",
      " 26  new_collab_tools_desire_next_year  2023 non-null   object  \n",
      " 27  new_collab_tools_worked_with       2192 non-null   object  \n",
      " 28  new_dev_ops                        2245 non-null   object  \n",
      " 29  new_dev_ops_impt                   2183 non-null   object  \n",
      " 30  new_ed_impt                        2246 non-null   object  \n",
      " 31  new_job_hunt                       2191 non-null   object  \n",
      " 32  new_job_hunt_research              2149 non-null   object  \n",
      " 33  new_learn                          2223 non-null   object  \n",
      " 34  new_off_topic                      2155 non-null   object  \n",
      " 35  new_onboard_good                   2244 non-null   object  \n",
      " 36  new_other_comms                    2257 non-null   object  \n",
      " 37  new_overtime                       2255 non-null   object  \n",
      " 38  new_purchase_research              1480 non-null   object  \n",
      " 39  purple_link                        2261 non-null   object  \n",
      " 40  newso_sites                        2257 non-null   object  \n",
      " 41  new_stuck                          2232 non-null   object  \n",
      " 42  op_sys                             2245 non-null   object  \n",
      " 43  org_size                           2223 non-null   object  \n",
      " 44  platform_desire_next_year          2065 non-null   object  \n",
      " 45  platform_worked_with               2170 non-null   object  \n",
      " 46  purchase_what                      2053 non-null   object  \n",
      " 47  sexuality                          2054 non-null   object  \n",
      " 48  so_account                         2247 non-null   object  \n",
      " 49  so_comm                            2248 non-null   object  \n",
      " 50  so_part_freq                       1884 non-null   object  \n",
      " 51  so_visit_freq                      2248 non-null   object  \n",
      " 52  survey_ease                        2248 non-null   object  \n",
      " 53  survey_length                      2251 non-null   object  \n",
      " 54  trans                              2199 non-null   object  \n",
      " 55  undergrad_major                    2151 non-null   object  \n",
      " 56  webframe_desire_next_year          1336 non-null   object  \n",
      " 57  webframe_worked_with               1452 non-null   object  \n",
      " 58  welcome_change                     2199 non-null   object  \n",
      " 59  work_week_hrs                      2219 non-null   float64 \n",
      " 60  years_code                         2261 non-null   float64 \n",
      " 61  years_code_pro                     2261 non-null   float64 \n",
      " 62  age_cat                            2261 non-null   object  \n",
      "dtypes: category(1), float64(8), object(54)\n",
      "memory usage: 1.1+ MB\n"
     ]
    }
   ],
   "source": [
    "import feather\n",
    "import pandas as pd\n",
    "import os\n",
    "import numpy as np\n",
    "from scipy.stats import norm\n",
    "\n",
    "current_directory = os.getcwd()\n",
    "\n",
    "feather_file_relative_path = 'stack_overflow.feather'\n",
    "\n",
    "feather_file_path = os.path.join(current_directory, feather_file_relative_path)\n",
    "\n",
    "stack_overflow = feather.read_dataframe(feather_file_path)\n",
    "\n",
    "stack_overflow.info()"
   ]
  },
  {
   "cell_type": "markdown",
   "id": "7924adf9",
   "metadata": {},
   "source": [
    "# Decide Hypotesis & calculating Z value manually with formula"
   ]
  },
  {
   "cell_type": "code",
   "execution_count": 2,
   "id": "935e0f40",
   "metadata": {},
   "outputs": [
    {
     "data": {
      "text/plain": [
       "Under 30       0.535604\n",
       "At least 30    0.464396\n",
       "Name: age_cat, dtype: float64"
      ]
     },
     "execution_count": 2,
     "metadata": {},
     "output_type": "execute_result"
    }
   ],
   "source": [
    "# H0: Proportion of Stack Overflow users under thirty = 0.5\n",
    "# HA: Proportion of Stack Overflow users under(left-tailed) thirty ≠ 0.5\n",
    "\n",
    "alha = 0.01\n",
    "stack_overflow['age_cat'].value_counts(normalize=True)"
   ]
  },
  {
   "cell_type": "code",
   "execution_count": 3,
   "id": "8be2a311",
   "metadata": {},
   "outputs": [
    {
     "name": "stdout",
     "output_type": "stream",
     "text": [
      "0.5356037151702786\n"
     ]
    }
   ],
   "source": [
    "# Calculate values for Z value\n",
    "\n",
    "p_hat = (stack_overflow['age_cat'] == 'Under 30').mean()\n",
    "print(p_hat)"
   ]
  },
  {
   "cell_type": "code",
   "execution_count": 4,
   "id": "15b71890",
   "metadata": {},
   "outputs": [
    {
     "name": "stdout",
     "output_type": "stream",
     "text": [
      "2261\n"
     ]
    }
   ],
   "source": [
    "p_0 = 0.50\n",
    "n = len(stack_overflow)\n",
    "print(n)"
   ]
  },
  {
   "cell_type": "code",
   "execution_count": 5,
   "id": "e08b9b74",
   "metadata": {},
   "outputs": [
    {
     "name": "stdout",
     "output_type": "stream",
     "text": [
      "3.385911440783663\n"
     ]
    }
   ],
   "source": [
    "#Calculate Z score manualy with formula\n",
    "\n",
    "numerator = p_hat - p_0\n",
    "denominator = np.sqrt(p_0 * (1 - p_0) / n)\n",
    "z_score = numerator / denominator\n",
    "\n",
    "print(z_score)"
   ]
  },
  {
   "cell_type": "code",
   "execution_count": 6,
   "id": "d72ab451",
   "metadata": {},
   "outputs": [
    {
     "name": "stdout",
     "output_type": "stream",
     "text": [
      "0.999645288631595\n"
     ]
    }
   ],
   "source": [
    "#Left-Tailed\n",
    "\n",
    "p_value = norm.cdf(z_score)\n",
    "\n",
    "print(p_value)"
   ]
  },
  {
   "cell_type": "markdown",
   "id": "fdf38fee",
   "metadata": {},
   "source": [
    "# Decide second Hypotesis & calculate P value with 'proportions_ztest'"
   ]
  },
  {
   "cell_type": "code",
   "execution_count": 7,
   "id": "ad15d043",
   "metadata": {},
   "outputs": [
    {
     "name": "stdout",
     "output_type": "stream",
     "text": [
      "age_cat      hobbyist\n",
      "At least 30  Yes         0.773333\n",
      "             No          0.226667\n",
      "Under 30     Yes         0.843105\n",
      "             No          0.156895\n",
      "Name: hobbyist, dtype: float64\n"
     ]
    }
   ],
   "source": [
    "# H0: Proportion of hobbyist users is the same for those under thirty as those at least thirty p≥30 − p<30 = 0\n",
    "# HA: Proportion of hobbyist users is different(two-tailed) for those under thirty to those at least thirty p≥30 − p<30 ≠ 0\n",
    "\n",
    "alpha = 0.05\n",
    "\n",
    "# Calculate values for Z value\n",
    "\n",
    "p_hats = stack_overflow.groupby(\"age_cat\")['hobbyist'].value_counts(normalize=True)\n",
    "\n",
    "print(p_hats)"
   ]
  },
  {
   "cell_type": "code",
   "execution_count": 8,
   "id": "3ca7b816",
   "metadata": {},
   "outputs": [
    {
     "name": "stdout",
     "output_type": "stream",
     "text": [
      "age_cat\n",
      "At least 30    1050\n",
      "Under 30       1211\n",
      "Name: hobbyist, dtype: int64\n"
     ]
    }
   ],
   "source": [
    "n = stack_overflow.groupby(\"age_cat\")['hobbyist'].count()\n",
    "print(n)"
   ]
  },
  {
   "cell_type": "code",
   "execution_count": 9,
   "id": "5bb48a05",
   "metadata": {},
   "outputs": [
    {
     "name": "stdout",
     "output_type": "stream",
     "text": [
      "0.7733333333333333 0.8431048720066061\n"
     ]
    }
   ],
   "source": [
    "p_hats = stack_overflow.groupby(\"age_cat\")['hobbyist'].value_counts(normalize=True)\n",
    "\n",
    "#Split values \"At least 30\",\"Yes\" & \"Under 30\",\"Yes\"\n",
    "\n",
    "p_hat_at_least_30 = p_hats[(\"At least 30\",\"Yes\")]\n",
    "p_hat_under_30 = p_hats[(\"Under 30\",\"Yes\")]\n",
    "print(p_hat_at_least_30, p_hat_under_30)"
   ]
  },
  {
   "cell_type": "code",
   "execution_count": 10,
   "id": "f081a02c",
   "metadata": {},
   "outputs": [
    {
     "name": "stdout",
     "output_type": "stream",
     "text": [
      "1050 1211\n"
     ]
    }
   ],
   "source": [
    "n = stack_overflow.groupby(\"age_cat\")['hobbyist'].count()\n",
    "\n",
    "n_at_least_30 = n[\"At least 30\"]\n",
    "n_under_30 = n[\"Under 30\"]\n",
    "\n",
    "print(n_at_least_30, n_under_30)"
   ]
  },
  {
   "cell_type": "code",
   "execution_count": 11,
   "id": "829407ae",
   "metadata": {},
   "outputs": [
    {
     "name": "stdout",
     "output_type": "stream",
     "text": [
      "-4.223691463320559\n"
     ]
    }
   ],
   "source": [
    "#Calculating Z score with formula \n",
    "\n",
    "p_hat = (n_at_least_30 * p_hat_at_least_30 + n_under_30 * p_hat_under_30) /(n_at_least_30 + n_under_30)\n",
    "\n",
    "std_error = np.sqrt(p_hat * (1-p_hat) / n_at_least_30 +p_hat * (1-p_hat) / n_under_30)\n",
    "\n",
    "z_score = (p_hat_at_least_30 - p_hat_under_30) / std_error\n",
    "\n",
    "print(z_score)"
   ]
  },
  {
   "cell_type": "code",
   "execution_count": 12,
   "id": "534fa805",
   "metadata": {},
   "outputs": [
    {
     "name": "stdout",
     "output_type": "stream",
     "text": [
      "age_cat      hobbyist\n",
      "At least 30  Yes          812\n",
      "             No           238\n",
      "Under 30     Yes         1021\n",
      "             No           190\n",
      "Name: hobbyist, dtype: int64\n"
     ]
    }
   ],
   "source": [
    "#Calculate P value with 'proportions_ztest()'\n",
    "\n",
    "print(stack_overflow.groupby(\"age_cat\")['hobbyist'].value_counts())"
   ]
  },
  {
   "cell_type": "code",
   "execution_count": 13,
   "id": "f4a7e755",
   "metadata": {},
   "outputs": [
    {
     "name": "stdout",
     "output_type": "stream",
     "text": [
      "z_score: -4.223691463320559 p_value: 2.403330142685068e-05\n"
     ]
    }
   ],
   "source": [
    "n_hobbyists = np.array([812, 1021])\n",
    "n_rows = np.array([812 + 238, 1021 + 190])\n",
    "\n",
    "from statsmodels.stats.proportion import proportions_ztest\n",
    "\n",
    "z_score, p_value = proportions_ztest(count=n_hobbyists, nobs=n_rows,alternative=\"two-sided\")\n",
    "\n",
    "print(\"z_score:\", z_score, \"p_value:\", p_value) \n",
    "\n",
    "# P value('2.403330142685068e-05') is smaller than alpha = 0.05, it means We can reject the null Hypothesis (H0)."
   ]
  },
  {
   "cell_type": "markdown",
   "id": "e015dc2e",
   "metadata": {},
   "source": [
    "# pingouin.chi2_independence"
   ]
  },
  {
   "cell_type": "markdown",
   "id": "9e57ed56",
   "metadata": {},
   "source": [
    "Calcualting P value different way with 'pingouin.chi2_independence' for more readible result with additional information."
   ]
  },
  {
   "cell_type": "code",
   "execution_count": 14,
   "id": "ab2b3231",
   "metadata": {},
   "outputs": [
    {
     "name": "stdout",
     "output_type": "stream",
     "text": [
      "                 test    lambda       chi2  dof      pval    cramer     power\n",
      "0             pearson  1.000000  17.839570  1.0  0.000024  0.088826  0.988205\n",
      "1        cressie-read  0.666667  17.818114  1.0  0.000024  0.088773  0.988126\n",
      "2      log-likelihood  0.000000  17.802653  1.0  0.000025  0.088734  0.988069\n",
      "3       freeman-tukey -0.500000  17.815060  1.0  0.000024  0.088765  0.988115\n",
      "4  mod-log-likelihood -1.000000  17.848099  1.0  0.000024  0.088848  0.988236\n",
      "5              neyman -2.000000  17.976656  1.0  0.000022  0.089167  0.988694\n"
     ]
    }
   ],
   "source": [
    "import pingouin\n",
    "\n",
    "expected, observed, stats = pingouin.chi2_independence(data=stack_overflow, \n",
    "                                                       x='hobbyist',\n",
    "                                                       y='age_cat', \n",
    "                                                       correction=False)\n",
    "\n",
    "print(stats)"
   ]
  },
  {
   "cell_type": "markdown",
   "id": "262423c8",
   "metadata": {},
   "source": [
    "# Job satisfaction and age category Hypotesis"
   ]
  },
  {
   "cell_type": "code",
   "execution_count": 15,
   "id": "20063bf8",
   "metadata": {},
   "outputs": [
    {
     "name": "stdout",
     "output_type": "stream",
     "text": [
      "-4.223691463320559 2.403330142685068e-05\n"
     ]
    }
   ],
   "source": [
    "age_by_hobbyist = stack_overflow.groupby(\"age_cat\")['hobbyist'].value_counts()\n",
    "\n",
    "n_hobbyists = np.array([812, 1021])  \n",
    "n_rows = np.array([812 + 238, 1021 + 190])  \n",
    "\n",
    "stat, p_value = proportions_ztest(count=n_hobbyists, \n",
    "                                  nobs=n_rows,\n",
    "                                  alternative=\"two-sided\")\n",
    "\n",
    "print(stat, p_value)"
   ]
  },
  {
   "cell_type": "code",
   "execution_count": 16,
   "id": "a8242c44",
   "metadata": {},
   "outputs": [
    {
     "name": "stdout",
     "output_type": "stream",
     "text": [
      "                 test    lambda       chi2  dof      pval    cramer     power\n",
      "0             pearson  1.000000  17.839570  1.0  0.000024  0.088826  0.988205\n",
      "1        cressie-read  0.666667  17.818114  1.0  0.000024  0.088773  0.988126\n",
      "2      log-likelihood  0.000000  17.802653  1.0  0.000025  0.088734  0.988069\n",
      "3       freeman-tukey -0.500000  17.815060  1.0  0.000024  0.088765  0.988115\n",
      "4  mod-log-likelihood -1.000000  17.848099  1.0  0.000024  0.088848  0.988236\n",
      "5              neyman -2.000000  17.976656  1.0  0.000022  0.089167  0.988694\n"
     ]
    }
   ],
   "source": [
    "expected, observed, stats = pingouin.chi2_independence(data=stack_overflow, \n",
    "                                                       x='hobbyist',\n",
    "                                                       y='age_cat', \n",
    "                                                       correction=False)\n",
    "print(stats)"
   ]
  },
  {
   "cell_type": "markdown",
   "id": "bbd427f6",
   "metadata": {},
   "source": [
    "χ**2 statistic = 17.839570 = (−4.223691463320559)**2 = (z-score)**2"
   ]
  },
  {
   "cell_type": "markdown",
   "id": "a1a54282",
   "metadata": {},
   "source": [
    "H0 : Age categories are independent of job satisfaction levels\n",
    "HA : Age categories are not independent of job satisfaction levels"
   ]
  },
  {
   "cell_type": "markdown",
   "id": "553a6ab3",
   "metadata": {},
   "source": [
    "# Exploratory visualization: proportional stacked bar plot"
   ]
  },
  {
   "cell_type": "code",
   "execution_count": 17,
   "id": "0c5c2229",
   "metadata": {},
   "outputs": [
    {
     "data": {
      "text/plain": [
       "<AxesSubplot:xlabel='job_sat'>"
      ]
     },
     "execution_count": 17,
     "metadata": {},
     "output_type": "execute_result"
    },
    {
     "data": {
      "image/png": "[encoded data removed]",
      "text/plain": [
       "<Figure size 640x480 with 1 Axes>"
      ]
     },
     "metadata": {},
     "output_type": "display_data"
    }
   ],
   "source": [
    "alpha = 0.1\n",
    "\n",
    "props = stack_overflow.groupby('job_sat')['age_cat'].value_counts(normalize=True)\n",
    "wide_props = props.unstack()\n",
    "wide_props.plot(kind=\"bar\", stacked=True)"
   ]
  },
  {
   "cell_type": "code",
   "execution_count": 18,
   "id": "cff5a659",
   "metadata": {},
   "outputs": [
    {
     "name": "stdout",
     "output_type": "stream",
     "text": [
      "                 test    lambda      chi2  dof      pval    cramer     power\n",
      "0             pearson  1.000000  5.552373  4.0  0.235164  0.049555  0.437417\n",
      "1        cressie-read  0.666667  5.554106  4.0  0.235014  0.049563  0.437545\n",
      "2      log-likelihood  0.000000  5.558529  4.0  0.234632  0.049583  0.437871\n",
      "3       freeman-tukey -0.500000  5.562688  4.0  0.234274  0.049601  0.438178\n",
      "4  mod-log-likelihood -1.000000  5.567570  4.0  0.233854  0.049623  0.438538\n",
      "5              neyman -2.000000  5.579519  4.0  0.232828  0.049676  0.439419\n"
     ]
    }
   ],
   "source": [
    "expected, observed, stats = pingouin.chi2_independence(data=stack_overflow, x=\"job_sat\", y=\"age_cat\")\n",
    "\n",
    "print(stats)"
   ]
  },
  {
   "cell_type": "markdown",
   "id": "d0008e0a",
   "metadata": {},
   "source": [
    "- Swapping the variables, so values between variables are easier to read"
   ]
  },
  {
   "cell_type": "code",
   "execution_count": 19,
   "id": "995dc25c",
   "metadata": {},
   "outputs": [
    {
     "data": {
      "text/plain": [
       "<AxesSubplot:xlabel='age_cat'>"
      ]
     },
     "execution_count": 19,
     "metadata": {},
     "output_type": "execute_result"
    },
    {
     "data": {
      "image/png": "[encoded data removed]",
      "text/plain": [
       "<Figure size 640x480 with 1 Axes>"
      ]
     },
     "metadata": {},
     "output_type": "display_data"
    }
   ],
   "source": [
    "props = stack_overflow.groupby('age_cat')['job_sat'].value_counts(normalize=True)\n",
    "\n",
    "wide_props = props.unstack()\n",
    "\n",
    "wide_props.plot(kind=\"bar\", stacked=True)"
   ]
  },
  {
   "cell_type": "code",
   "execution_count": 20,
   "id": "5b59075d",
   "metadata": {},
   "outputs": [
    {
     "name": "stdout",
     "output_type": "stream",
     "text": [
      "      test  lambda      chi2  dof      pval    cramer     power\n",
      "0  pearson     1.0  5.552373  4.0  0.235164  0.049555  0.437417\n"
     ]
    }
   ],
   "source": [
    "expected, observed, stats = pingouin.chi2_independence(data=stack_overflow, x=\"age_cat\", y=\"job_sat\")\n",
    "\n",
    "print(stats[stats['test'] == 'pearson'])"
   ]
  }
 ],
 "metadata": {
  "kernelspec": {
   "display_name": "Python 3 (ipykernel)",
   "language": "python",
   "name": "python3"
  },
  "language_info": {
   "codemirror_mode": {
    "name": "ipython",
    "version": 3
   },
   "file_extension": ".py",
   "mimetype": "text/x-python",
   "name": "python",
   "nbconvert_exporter": "python",
   "pygments_lexer": "ipython3",
   "version": "3.9.13"
  }
 },
 "nbformat": 4,
 "nbformat_minor": 5
}
